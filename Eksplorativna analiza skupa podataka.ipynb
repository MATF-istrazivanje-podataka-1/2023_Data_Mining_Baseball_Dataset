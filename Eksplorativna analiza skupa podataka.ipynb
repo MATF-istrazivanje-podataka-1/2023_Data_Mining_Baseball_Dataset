{
 "cells": [
  {
   "cell_type": "code",
   "execution_count": 1,
   "metadata": {
    "ExecuteTime": {
     "end_time": "2023-04-29T10:17:44.986458Z",
     "start_time": "2023-04-29T10:17:43.946679Z"
    }
   },
   "outputs": [],
   "source": [
    "from scipy.io import arff\n",
    "import pandas as pd\n",
    "import numpy as np\n",
    "from matplotlib import pyplot as plt\n",
    "\n",
    "plt.style.use('ggplot')"
   ]
  },
  {
   "cell_type": "code",
   "execution_count": 20,
   "metadata": {
    "ExecuteTime": {
     "end_time": "2023-04-29T10:17:45.121299Z",
     "start_time": "2023-04-29T10:17:44.986458Z"
    },
    "scrolled": false
   },
   "outputs": [
    {
     "name": "stdout",
     "output_type": "stream",
     "text": [
      "<class 'pandas.core.frame.DataFrame'>\n",
      "RangeIndex: 1340 entries, 0 to 1339\n",
      "Data columns (total 18 columns):\n",
      " #   Column           Non-Null Count  Dtype  \n",
      "---  ------           --------------  -----  \n",
      " 0   Player           1340 non-null   object \n",
      " 1   Number_seasons   1340 non-null   float64\n",
      " 2   Games_played     1340 non-null   float64\n",
      " 3   At_bats          1340 non-null   float64\n",
      " 4   Runs             1340 non-null   float64\n",
      " 5   Hits             1340 non-null   float64\n",
      " 6   Doubles          1340 non-null   float64\n",
      " 7   Triples          1340 non-null   float64\n",
      " 8   Home_runs        1340 non-null   float64\n",
      " 9   RBIs             1340 non-null   float64\n",
      " 10  Walks            1340 non-null   float64\n",
      " 11  Strikeouts       1320 non-null   float64\n",
      " 12  Batting_average  1340 non-null   float64\n",
      " 13  On_base_pct      1340 non-null   float64\n",
      " 14  Slugging_pct     1340 non-null   float64\n",
      " 15  Fielding_ave     1340 non-null   float64\n",
      " 16  Position         1340 non-null   object \n",
      " 17  Hall_of_Fame     1340 non-null   object \n",
      "dtypes: float64(15), object(3)\n",
      "memory usage: 188.6+ KB\n"
     ]
    }
   ],
   "source": [
    "data = arff.loadarff(r'podaci\\dataset_189_baseball.arff')\n",
    "df = pd.DataFrame(data[0])\n",
    "df.info()"
   ]
  },
  {
   "cell_type": "code",
   "execution_count": 3,
   "metadata": {
    "ExecuteTime": {
     "end_time": "2023-04-29T10:17:46.206607Z",
     "start_time": "2023-04-29T10:17:46.116362Z"
    }
   },
   "outputs": [
    {
     "data": {
      "text/html": [
       "<div>\n",
       "<style scoped>\n",
       "    .dataframe tbody tr th:only-of-type {\n",
       "        vertical-align: middle;\n",
       "    }\n",
       "\n",
       "    .dataframe tbody tr th {\n",
       "        vertical-align: top;\n",
       "    }\n",
       "\n",
       "    .dataframe thead th {\n",
       "        text-align: right;\n",
       "    }\n",
       "</style>\n",
       "<table border=\"1\" class=\"dataframe\">\n",
       "  <thead>\n",
       "    <tr style=\"text-align: right;\">\n",
       "      <th></th>\n",
       "      <th>Player</th>\n",
       "      <th>Number_seasons</th>\n",
       "      <th>Games_played</th>\n",
       "      <th>At_bats</th>\n",
       "      <th>Runs</th>\n",
       "      <th>Hits</th>\n",
       "      <th>Doubles</th>\n",
       "      <th>Triples</th>\n",
       "      <th>Home_runs</th>\n",
       "      <th>RBIs</th>\n",
       "      <th>Walks</th>\n",
       "      <th>Strikeouts</th>\n",
       "      <th>Batting_average</th>\n",
       "      <th>On_base_pct</th>\n",
       "      <th>Slugging_pct</th>\n",
       "      <th>Fielding_ave</th>\n",
       "      <th>Position</th>\n",
       "      <th>Hall_of_Fame</th>\n",
       "    </tr>\n",
       "  </thead>\n",
       "  <tbody>\n",
       "    <tr>\n",
       "      <th>0</th>\n",
       "      <td>b'HANK_AARON'</td>\n",
       "      <td>23.0</td>\n",
       "      <td>3298.0</td>\n",
       "      <td>12364.0</td>\n",
       "      <td>2174.0</td>\n",
       "      <td>3771.0</td>\n",
       "      <td>624.0</td>\n",
       "      <td>98.0</td>\n",
       "      <td>755.0</td>\n",
       "      <td>2297.0</td>\n",
       "      <td>1402.0</td>\n",
       "      <td>1383.0</td>\n",
       "      <td>0.305</td>\n",
       "      <td>0.377</td>\n",
       "      <td>0.555</td>\n",
       "      <td>0.980</td>\n",
       "      <td>b'Outfield'</td>\n",
       "      <td>b'1'</td>\n",
       "    </tr>\n",
       "    <tr>\n",
       "      <th>1</th>\n",
       "      <td>b'JERRY_ADAIR'</td>\n",
       "      <td>13.0</td>\n",
       "      <td>1165.0</td>\n",
       "      <td>4019.0</td>\n",
       "      <td>378.0</td>\n",
       "      <td>1022.0</td>\n",
       "      <td>163.0</td>\n",
       "      <td>19.0</td>\n",
       "      <td>57.0</td>\n",
       "      <td>366.0</td>\n",
       "      <td>208.0</td>\n",
       "      <td>499.0</td>\n",
       "      <td>0.254</td>\n",
       "      <td>0.294</td>\n",
       "      <td>0.347</td>\n",
       "      <td>0.985</td>\n",
       "      <td>b'Second_base'</td>\n",
       "      <td>b'0'</td>\n",
       "    </tr>\n",
       "    <tr>\n",
       "      <th>2</th>\n",
       "      <td>b'SPARKY_ADAMS'</td>\n",
       "      <td>13.0</td>\n",
       "      <td>1424.0</td>\n",
       "      <td>5557.0</td>\n",
       "      <td>844.0</td>\n",
       "      <td>1588.0</td>\n",
       "      <td>249.0</td>\n",
       "      <td>48.0</td>\n",
       "      <td>9.0</td>\n",
       "      <td>394.0</td>\n",
       "      <td>453.0</td>\n",
       "      <td>223.0</td>\n",
       "      <td>0.286</td>\n",
       "      <td>0.343</td>\n",
       "      <td>0.353</td>\n",
       "      <td>0.974</td>\n",
       "      <td>b'Second_base'</td>\n",
       "      <td>b'0'</td>\n",
       "    </tr>\n",
       "    <tr>\n",
       "      <th>3</th>\n",
       "      <td>b'BOBBY_ADAMS'</td>\n",
       "      <td>14.0</td>\n",
       "      <td>1281.0</td>\n",
       "      <td>4019.0</td>\n",
       "      <td>591.0</td>\n",
       "      <td>1082.0</td>\n",
       "      <td>188.0</td>\n",
       "      <td>49.0</td>\n",
       "      <td>37.0</td>\n",
       "      <td>303.0</td>\n",
       "      <td>414.0</td>\n",
       "      <td>447.0</td>\n",
       "      <td>0.269</td>\n",
       "      <td>0.340</td>\n",
       "      <td>0.368</td>\n",
       "      <td>0.955</td>\n",
       "      <td>b'Third_base'</td>\n",
       "      <td>b'0'</td>\n",
       "    </tr>\n",
       "    <tr>\n",
       "      <th>4</th>\n",
       "      <td>b'JOE_ADCOCK'</td>\n",
       "      <td>17.0</td>\n",
       "      <td>1959.0</td>\n",
       "      <td>6606.0</td>\n",
       "      <td>823.0</td>\n",
       "      <td>1832.0</td>\n",
       "      <td>295.0</td>\n",
       "      <td>35.0</td>\n",
       "      <td>336.0</td>\n",
       "      <td>1122.0</td>\n",
       "      <td>594.0</td>\n",
       "      <td>1059.0</td>\n",
       "      <td>0.277</td>\n",
       "      <td>0.339</td>\n",
       "      <td>0.485</td>\n",
       "      <td>0.994</td>\n",
       "      <td>b'First_base'</td>\n",
       "      <td>b'0'</td>\n",
       "    </tr>\n",
       "  </tbody>\n",
       "</table>\n",
       "</div>"
      ],
      "text/plain": [
       "            Player  Number_seasons  Games_played  At_bats    Runs    Hits   \n",
       "0    b'HANK_AARON'            23.0        3298.0  12364.0  2174.0  3771.0  \\\n",
       "1   b'JERRY_ADAIR'            13.0        1165.0   4019.0   378.0  1022.0   \n",
       "2  b'SPARKY_ADAMS'            13.0        1424.0   5557.0   844.0  1588.0   \n",
       "3   b'BOBBY_ADAMS'            14.0        1281.0   4019.0   591.0  1082.0   \n",
       "4    b'JOE_ADCOCK'            17.0        1959.0   6606.0   823.0  1832.0   \n",
       "\n",
       "   Doubles  Triples  Home_runs    RBIs   Walks  Strikeouts  Batting_average   \n",
       "0    624.0     98.0      755.0  2297.0  1402.0      1383.0            0.305  \\\n",
       "1    163.0     19.0       57.0   366.0   208.0       499.0            0.254   \n",
       "2    249.0     48.0        9.0   394.0   453.0       223.0            0.286   \n",
       "3    188.0     49.0       37.0   303.0   414.0       447.0            0.269   \n",
       "4    295.0     35.0      336.0  1122.0   594.0      1059.0            0.277   \n",
       "\n",
       "   On_base_pct  Slugging_pct  Fielding_ave        Position Hall_of_Fame  \n",
       "0        0.377         0.555         0.980     b'Outfield'         b'1'  \n",
       "1        0.294         0.347         0.985  b'Second_base'         b'0'  \n",
       "2        0.343         0.353         0.974  b'Second_base'         b'0'  \n",
       "3        0.340         0.368         0.955   b'Third_base'         b'0'  \n",
       "4        0.339         0.485         0.994   b'First_base'         b'0'  "
      ]
     },
     "execution_count": 3,
     "metadata": {},
     "output_type": "execute_result"
    }
   ],
   "source": [
    "df.head()"
   ]
  },
  {
   "cell_type": "code",
   "execution_count": 4,
   "metadata": {
    "ExecuteTime": {
     "end_time": "2023-04-29T10:17:45.686617Z",
     "start_time": "2023-04-29T10:17:45.618108Z"
    },
    "scrolled": false
   },
   "outputs": [
    {
     "data": {
      "text/html": [
       "<div>\n",
       "<style scoped>\n",
       "    .dataframe tbody tr th:only-of-type {\n",
       "        vertical-align: middle;\n",
       "    }\n",
       "\n",
       "    .dataframe tbody tr th {\n",
       "        vertical-align: top;\n",
       "    }\n",
       "\n",
       "    .dataframe thead th {\n",
       "        text-align: right;\n",
       "    }\n",
       "</style>\n",
       "<table border=\"1\" class=\"dataframe\">\n",
       "  <thead>\n",
       "    <tr style=\"text-align: right;\">\n",
       "      <th></th>\n",
       "      <th>Number_seasons</th>\n",
       "      <th>Games_played</th>\n",
       "      <th>At_bats</th>\n",
       "      <th>Runs</th>\n",
       "      <th>Hits</th>\n",
       "      <th>Doubles</th>\n",
       "      <th>Triples</th>\n",
       "      <th>Home_runs</th>\n",
       "      <th>RBIs</th>\n",
       "      <th>Walks</th>\n",
       "      <th>Strikeouts</th>\n",
       "      <th>Batting_average</th>\n",
       "      <th>On_base_pct</th>\n",
       "      <th>Slugging_pct</th>\n",
       "      <th>Fielding_ave</th>\n",
       "    </tr>\n",
       "  </thead>\n",
       "  <tbody>\n",
       "    <tr>\n",
       "      <th>count</th>\n",
       "      <td>1340.000000</td>\n",
       "      <td>1340.000000</td>\n",
       "      <td>1340.000000</td>\n",
       "      <td>1340.000000</td>\n",
       "      <td>1340.000000</td>\n",
       "      <td>1340.000000</td>\n",
       "      <td>1340.000000</td>\n",
       "      <td>1340.000000</td>\n",
       "      <td>1340.000000</td>\n",
       "      <td>1340.000000</td>\n",
       "      <td>1320.000000</td>\n",
       "      <td>1340.000000</td>\n",
       "      <td>1340.000000</td>\n",
       "      <td>1340.000000</td>\n",
       "      <td>1340.000000</td>\n",
       "    </tr>\n",
       "    <tr>\n",
       "      <th>mean</th>\n",
       "      <td>13.485821</td>\n",
       "      <td>1331.263433</td>\n",
       "      <td>4534.612687</td>\n",
       "      <td>635.313433</td>\n",
       "      <td>1248.567164</td>\n",
       "      <td>203.225373</td>\n",
       "      <td>50.811940</td>\n",
       "      <td>85.109701</td>\n",
       "      <td>565.744776</td>\n",
       "      <td>445.584328</td>\n",
       "      <td>445.685606</td>\n",
       "      <td>0.268774</td>\n",
       "      <td>0.336064</td>\n",
       "      <td>0.385355</td>\n",
       "      <td>0.966370</td>\n",
       "    </tr>\n",
       "    <tr>\n",
       "      <th>std</th>\n",
       "      <td>3.136279</td>\n",
       "      <td>519.165125</td>\n",
       "      <td>2094.191124</td>\n",
       "      <td>376.400804</td>\n",
       "      <td>647.664709</td>\n",
       "      <td>116.576053</td>\n",
       "      <td>41.038358</td>\n",
       "      <td>97.930043</td>\n",
       "      <td>357.163666</td>\n",
       "      <td>295.214016</td>\n",
       "      <td>325.319204</td>\n",
       "      <td>0.026179</td>\n",
       "      <td>0.033701</td>\n",
       "      <td>0.060565</td>\n",
       "      <td>0.025193</td>\n",
       "    </tr>\n",
       "    <tr>\n",
       "      <th>min</th>\n",
       "      <td>10.000000</td>\n",
       "      <td>140.000000</td>\n",
       "      <td>252.000000</td>\n",
       "      <td>20.000000</td>\n",
       "      <td>48.000000</td>\n",
       "      <td>6.000000</td>\n",
       "      <td>0.000000</td>\n",
       "      <td>0.000000</td>\n",
       "      <td>21.000000</td>\n",
       "      <td>17.000000</td>\n",
       "      <td>0.000000</td>\n",
       "      <td>0.161000</td>\n",
       "      <td>0.194000</td>\n",
       "      <td>0.201000</td>\n",
       "      <td>0.820000</td>\n",
       "    </tr>\n",
       "    <tr>\n",
       "      <th>25%</th>\n",
       "      <td>11.000000</td>\n",
       "      <td>958.750000</td>\n",
       "      <td>2979.500000</td>\n",
       "      <td>355.000000</td>\n",
       "      <td>766.500000</td>\n",
       "      <td>116.000000</td>\n",
       "      <td>22.000000</td>\n",
       "      <td>22.000000</td>\n",
       "      <td>307.750000</td>\n",
       "      <td>232.000000</td>\n",
       "      <td>218.000000</td>\n",
       "      <td>0.252000</td>\n",
       "      <td>0.315000</td>\n",
       "      <td>0.343000</td>\n",
       "      <td>0.957000</td>\n",
       "    </tr>\n",
       "    <tr>\n",
       "      <th>50%</th>\n",
       "      <td>13.000000</td>\n",
       "      <td>1282.500000</td>\n",
       "      <td>4302.000000</td>\n",
       "      <td>575.000000</td>\n",
       "      <td>1168.000000</td>\n",
       "      <td>184.500000</td>\n",
       "      <td>40.000000</td>\n",
       "      <td>51.000000</td>\n",
       "      <td>486.000000</td>\n",
       "      <td>380.000000</td>\n",
       "      <td>365.500000</td>\n",
       "      <td>0.267000</td>\n",
       "      <td>0.335000</td>\n",
       "      <td>0.380000</td>\n",
       "      <td>0.973000</td>\n",
       "    </tr>\n",
       "    <tr>\n",
       "      <th>75%</th>\n",
       "      <td>15.000000</td>\n",
       "      <td>1651.500000</td>\n",
       "      <td>5815.250000</td>\n",
       "      <td>843.250000</td>\n",
       "      <td>1613.000000</td>\n",
       "      <td>264.000000</td>\n",
       "      <td>69.000000</td>\n",
       "      <td>108.000000</td>\n",
       "      <td>735.250000</td>\n",
       "      <td>576.000000</td>\n",
       "      <td>593.000000</td>\n",
       "      <td>0.285000</td>\n",
       "      <td>0.357250</td>\n",
       "      <td>0.424000</td>\n",
       "      <td>0.983000</td>\n",
       "    </tr>\n",
       "    <tr>\n",
       "      <th>max</th>\n",
       "      <td>26.000000</td>\n",
       "      <td>3562.000000</td>\n",
       "      <td>14053.000000</td>\n",
       "      <td>2246.000000</td>\n",
       "      <td>4256.000000</td>\n",
       "      <td>792.000000</td>\n",
       "      <td>309.000000</td>\n",
       "      <td>755.000000</td>\n",
       "      <td>2297.000000</td>\n",
       "      <td>2056.000000</td>\n",
       "      <td>2597.000000</td>\n",
       "      <td>0.366000</td>\n",
       "      <td>0.483000</td>\n",
       "      <td>0.690000</td>\n",
       "      <td>1.000000</td>\n",
       "    </tr>\n",
       "  </tbody>\n",
       "</table>\n",
       "</div>"
      ],
      "text/plain": [
       "       Number_seasons  Games_played       At_bats         Runs         Hits   \n",
       "count     1340.000000   1340.000000   1340.000000  1340.000000  1340.000000  \\\n",
       "mean        13.485821   1331.263433   4534.612687   635.313433  1248.567164   \n",
       "std          3.136279    519.165125   2094.191124   376.400804   647.664709   \n",
       "min         10.000000    140.000000    252.000000    20.000000    48.000000   \n",
       "25%         11.000000    958.750000   2979.500000   355.000000   766.500000   \n",
       "50%         13.000000   1282.500000   4302.000000   575.000000  1168.000000   \n",
       "75%         15.000000   1651.500000   5815.250000   843.250000  1613.000000   \n",
       "max         26.000000   3562.000000  14053.000000  2246.000000  4256.000000   \n",
       "\n",
       "           Doubles      Triples    Home_runs         RBIs        Walks   \n",
       "count  1340.000000  1340.000000  1340.000000  1340.000000  1340.000000  \\\n",
       "mean    203.225373    50.811940    85.109701   565.744776   445.584328   \n",
       "std     116.576053    41.038358    97.930043   357.163666   295.214016   \n",
       "min       6.000000     0.000000     0.000000    21.000000    17.000000   \n",
       "25%     116.000000    22.000000    22.000000   307.750000   232.000000   \n",
       "50%     184.500000    40.000000    51.000000   486.000000   380.000000   \n",
       "75%     264.000000    69.000000   108.000000   735.250000   576.000000   \n",
       "max     792.000000   309.000000   755.000000  2297.000000  2056.000000   \n",
       "\n",
       "        Strikeouts  Batting_average  On_base_pct  Slugging_pct  Fielding_ave  \n",
       "count  1320.000000      1340.000000  1340.000000   1340.000000   1340.000000  \n",
       "mean    445.685606         0.268774     0.336064      0.385355      0.966370  \n",
       "std     325.319204         0.026179     0.033701      0.060565      0.025193  \n",
       "min       0.000000         0.161000     0.194000      0.201000      0.820000  \n",
       "25%     218.000000         0.252000     0.315000      0.343000      0.957000  \n",
       "50%     365.500000         0.267000     0.335000      0.380000      0.973000  \n",
       "75%     593.000000         0.285000     0.357250      0.424000      0.983000  \n",
       "max    2597.000000         0.366000     0.483000      0.690000      1.000000  "
      ]
     },
     "execution_count": 4,
     "metadata": {},
     "output_type": "execute_result"
    }
   ],
   "source": [
    "df.describe()"
   ]
  },
  {
   "cell_type": "code",
   "execution_count": 5,
   "metadata": {
    "ExecuteTime": {
     "end_time": "2023-04-29T10:17:47.326310Z",
     "start_time": "2023-04-29T10:17:47.277163Z"
    }
   },
   "outputs": [
    {
     "data": {
      "text/plain": [
       "array([b'1', b'0', b'2'], dtype=object)"
      ]
     },
     "execution_count": 5,
     "metadata": {},
     "output_type": "execute_result"
    }
   ],
   "source": [
    "df['Hall_of_Fame'].unique()"
   ]
  },
  {
   "cell_type": "code",
   "execution_count": 6,
   "metadata": {
    "ExecuteTime": {
     "end_time": "2023-04-29T10:17:47.963771Z",
     "start_time": "2023-04-29T10:17:47.956004Z"
    }
   },
   "outputs": [
    {
     "data": {
      "text/plain": [
       "array([b'Outfield', b'Second_base', b'Third_base', b'First_base',\n",
       "       b'Shortstop', b'Catcher', b'Designated_hitter'], dtype=object)"
      ]
     },
     "execution_count": 6,
     "metadata": {},
     "output_type": "execute_result"
    }
   ],
   "source": [
    "df['Position'].unique()"
   ]
  },
  {
   "cell_type": "code",
   "execution_count": 7,
   "metadata": {},
   "outputs": [
    {
     "data": {
      "text/plain": [
       "array([23., 13., 14., 17., 12., 10., 15., 11., 22., 18., 20., 19., 16.,\n",
       "       21., 24., 25., 26.])"
      ]
     },
     "execution_count": 7,
     "metadata": {},
     "output_type": "execute_result"
    }
   ],
   "source": [
    "df['Number_seasons'].unique()"
   ]
  },
  {
   "cell_type": "code",
   "execution_count": 8,
   "metadata": {
    "ExecuteTime": {
     "end_time": "2023-04-29T10:17:48.655729Z",
     "start_time": "2023-04-29T10:17:48.637306Z"
    }
   },
   "outputs": [],
   "source": [
    "df = df.drop('Player', axis=1)"
   ]
  },
  {
   "cell_type": "code",
   "execution_count": 9,
   "metadata": {},
   "outputs": [],
   "source": [
    "df['Hall_of_Fame'] = df['Hall_of_Fame'].map(lambda x: x.decode())\n",
    "df['Position'] = df['Position'].map(lambda x: x.decode())\n",
    "df['Number_seasons'] = df['Number_seasons'].map(lambda x: int(x))"
   ]
  },
  {
   "cell_type": "code",
   "execution_count": 10,
   "metadata": {},
   "outputs": [
    {
     "data": {
      "text/plain": [
       "array(['1', '0', '2'], dtype=object)"
      ]
     },
     "execution_count": 10,
     "metadata": {},
     "output_type": "execute_result"
    }
   ],
   "source": [
    "df['Hall_of_Fame'].unique()"
   ]
  },
  {
   "cell_type": "code",
   "execution_count": 11,
   "metadata": {},
   "outputs": [],
   "source": [
    "def plotvaluecounts(df, naziv_kolone):\n",
    "    ax = df[naziv_kolone].value_counts().plot(kind='bar', title=naziv_kolone.replace('_', ' '))\n",
    "\n",
    "    ax.set_xlabel(naziv_kolone)\n",
    "    ax.set_ylabel('Count')\n",
    "\n",
    "    plt.show()"
   ]
  },
  {
   "cell_type": "code",
   "execution_count": 12,
   "metadata": {},
   "outputs": [
    {
     "data": {
      "image/png": "[encoded data removed]",
      "text/plain": [
       "<Figure size 640x480 with 1 Axes>"
      ]
     },
     "metadata": {},
     "output_type": "display_data"
    }
   ],
   "source": [
    "plotvaluecounts(df, 'Hall_of_Fame')"
   ]
  },
  {
   "cell_type": "code",
   "execution_count": 13,
   "metadata": {},
   "outputs": [
    {
     "data": {
      "text/plain": [
       "array(['Outfield', 'Second_base', 'Third_base', 'First_base', 'Shortstop',\n",
       "       'Catcher', 'Designated_hitter'], dtype=object)"
      ]
     },
     "execution_count": 13,
     "metadata": {},
     "output_type": "execute_result"
    }
   ],
   "source": [
    "df['Position'].unique()"
   ]
  },
  {
   "cell_type": "code",
   "execution_count": 14,
   "metadata": {},
   "outputs": [
    {
     "data": {
      "image/png": "[encoded data removed]",
      "text/plain": [
       "<Figure size 640x480 with 1 Axes>"
      ]
     },
     "metadata": {},
     "output_type": "display_data"
    }
   ],
   "source": [
    "plotvaluecounts(df, 'Position')"
   ]
  },
  {
   "cell_type": "code",
   "execution_count": 15,
   "metadata": {},
   "outputs": [
    {
     "data": {
      "text/plain": [
       "array([23, 13, 14, 17, 12, 10, 15, 11, 22, 18, 20, 19, 16, 21, 24, 25, 26],\n",
       "      dtype=int64)"
      ]
     },
     "execution_count": 15,
     "metadata": {},
     "output_type": "execute_result"
    }
   ],
   "source": [
    "df['Number_seasons'].unique()"
   ]
  },
  {
   "cell_type": "code",
   "execution_count": 16,
   "metadata": {},
   "outputs": [
    {
     "data": {
      "image/png": "[encoded data removed]",
      "text/plain": [
       "<Figure size 640x480 with 1 Axes>"
      ]
     },
     "metadata": {},
     "output_type": "display_data"
    }
   ],
   "source": [
    "plotvaluecounts(df, 'Number_seasons')"
   ]
  },
  {
   "cell_type": "code",
   "execution_count": 17,
   "metadata": {},
   "outputs": [
    {
     "name": "stdout",
     "output_type": "stream",
     "text": [
      "<class 'pandas.core.frame.DataFrame'>\n",
      "RangeIndex: 1340 entries, 0 to 1339\n",
      "Data columns (total 17 columns):\n",
      " #   Column           Non-Null Count  Dtype  \n",
      "---  ------           --------------  -----  \n",
      " 0   Number_seasons   1340 non-null   int64  \n",
      " 1   Games_played     1340 non-null   float64\n",
      " 2   At_bats          1340 non-null   float64\n",
      " 3   Runs             1340 non-null   float64\n",
      " 4   Hits             1340 non-null   float64\n",
      " 5   Doubles          1340 non-null   float64\n",
      " 6   Triples          1340 non-null   float64\n",
      " 7   Home_runs        1340 non-null   float64\n",
      " 8   RBIs             1340 non-null   float64\n",
      " 9   Walks            1340 non-null   float64\n",
      " 10  Strikeouts       1320 non-null   float64\n",
      " 11  Batting_average  1340 non-null   float64\n",
      " 12  On_base_pct      1340 non-null   float64\n",
      " 13  Slugging_pct     1340 non-null   float64\n",
      " 14  Fielding_ave     1340 non-null   float64\n",
      " 15  Position         1340 non-null   object \n",
      " 16  Hall_of_Fame     1340 non-null   object \n",
      "dtypes: float64(14), int64(1), object(2)\n",
      "memory usage: 178.1+ KB\n"
     ]
    }
   ],
   "source": [
    "df.info()"
   ]
  },
  {
   "cell_type": "code",
   "execution_count": 18,
   "metadata": {},
   "outputs": [],
   "source": [
    "df.to_csv(r'podaci\\baseball.csv', index=False)"
   ]
  }
 ],
 "metadata": {
  "kernelspec": {
   "display_name": "Python 3 (ipykernel)",
   "language": "python",
   "name": "python3"
  },
  "language_info": {
   "codemirror_mode": {
    "name": "ipython",
    "version": 3
   },
   "file_extension": ".py",
   "mimetype": "text/x-python",
   "name": "python",
   "nbconvert_exporter": "python",
   "pygments_lexer": "ipython3",
   "version": "3.11.3"
  }
 },
 "nbformat": 4,
 "nbformat_minor": 1
}
