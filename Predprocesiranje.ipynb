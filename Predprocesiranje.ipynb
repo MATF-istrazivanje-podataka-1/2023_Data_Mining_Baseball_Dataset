{
 "cells": [
  {
   "cell_type": "code",
   "execution_count": 29,
   "id": "ad84e54b",
   "metadata": {},
   "outputs": [],
   "source": [
    "import pandas as pd\n",
    "import numpy as np"
   ]
  },
  {
   "cell_type": "code",
   "execution_count": 30,
   "id": "090129fd",
   "metadata": {},
   "outputs": [
    {
     "data": {
      "text/html": [
       "<div>\n",
       "<style scoped>\n",
       "    .dataframe tbody tr th:only-of-type {\n",
       "        vertical-align: middle;\n",
       "    }\n",
       "\n",
       "    .dataframe tbody tr th {\n",
       "        vertical-align: top;\n",
       "    }\n",
       "\n",
       "    .dataframe thead th {\n",
       "        text-align: right;\n",
       "    }\n",
       "</style>\n",
       "<table border=\"1\" class=\"dataframe\">\n",
       "  <thead>\n",
       "    <tr style=\"text-align: right;\">\n",
       "      <th></th>\n",
       "      <th>Number_seasons</th>\n",
       "      <th>Games_played</th>\n",
       "      <th>At_bats</th>\n",
       "      <th>Runs</th>\n",
       "      <th>Hits</th>\n",
       "      <th>Doubles</th>\n",
       "      <th>Triples</th>\n",
       "      <th>Home_runs</th>\n",
       "      <th>RBIs</th>\n",
       "      <th>Walks</th>\n",
       "      <th>Strikeouts</th>\n",
       "      <th>Batting_average</th>\n",
       "      <th>On_base_pct</th>\n",
       "      <th>Slugging_pct</th>\n",
       "      <th>Fielding_ave</th>\n",
       "      <th>Position</th>\n",
       "      <th>Hall_of_Fame</th>\n",
       "    </tr>\n",
       "  </thead>\n",
       "  <tbody>\n",
       "    <tr>\n",
       "      <th>0</th>\n",
       "      <td>23.0</td>\n",
       "      <td>3298.0</td>\n",
       "      <td>12364.0</td>\n",
       "      <td>2174.0</td>\n",
       "      <td>3771.0</td>\n",
       "      <td>624.0</td>\n",
       "      <td>98.0</td>\n",
       "      <td>755.0</td>\n",
       "      <td>2297.0</td>\n",
       "      <td>1402.0</td>\n",
       "      <td>1383.0</td>\n",
       "      <td>0.305</td>\n",
       "      <td>0.377</td>\n",
       "      <td>0.555</td>\n",
       "      <td>0.980</td>\n",
       "      <td>Outfield</td>\n",
       "      <td>1</td>\n",
       "    </tr>\n",
       "    <tr>\n",
       "      <th>1</th>\n",
       "      <td>13.0</td>\n",
       "      <td>1165.0</td>\n",
       "      <td>4019.0</td>\n",
       "      <td>378.0</td>\n",
       "      <td>1022.0</td>\n",
       "      <td>163.0</td>\n",
       "      <td>19.0</td>\n",
       "      <td>57.0</td>\n",
       "      <td>366.0</td>\n",
       "      <td>208.0</td>\n",
       "      <td>499.0</td>\n",
       "      <td>0.254</td>\n",
       "      <td>0.294</td>\n",
       "      <td>0.347</td>\n",
       "      <td>0.985</td>\n",
       "      <td>Second_base</td>\n",
       "      <td>0</td>\n",
       "    </tr>\n",
       "    <tr>\n",
       "      <th>2</th>\n",
       "      <td>13.0</td>\n",
       "      <td>1424.0</td>\n",
       "      <td>5557.0</td>\n",
       "      <td>844.0</td>\n",
       "      <td>1588.0</td>\n",
       "      <td>249.0</td>\n",
       "      <td>48.0</td>\n",
       "      <td>9.0</td>\n",
       "      <td>394.0</td>\n",
       "      <td>453.0</td>\n",
       "      <td>223.0</td>\n",
       "      <td>0.286</td>\n",
       "      <td>0.343</td>\n",
       "      <td>0.353</td>\n",
       "      <td>0.974</td>\n",
       "      <td>Second_base</td>\n",
       "      <td>0</td>\n",
       "    </tr>\n",
       "    <tr>\n",
       "      <th>3</th>\n",
       "      <td>14.0</td>\n",
       "      <td>1281.0</td>\n",
       "      <td>4019.0</td>\n",
       "      <td>591.0</td>\n",
       "      <td>1082.0</td>\n",
       "      <td>188.0</td>\n",
       "      <td>49.0</td>\n",
       "      <td>37.0</td>\n",
       "      <td>303.0</td>\n",
       "      <td>414.0</td>\n",
       "      <td>447.0</td>\n",
       "      <td>0.269</td>\n",
       "      <td>0.340</td>\n",
       "      <td>0.368</td>\n",
       "      <td>0.955</td>\n",
       "      <td>Third_base</td>\n",
       "      <td>0</td>\n",
       "    </tr>\n",
       "    <tr>\n",
       "      <th>4</th>\n",
       "      <td>17.0</td>\n",
       "      <td>1959.0</td>\n",
       "      <td>6606.0</td>\n",
       "      <td>823.0</td>\n",
       "      <td>1832.0</td>\n",
       "      <td>295.0</td>\n",
       "      <td>35.0</td>\n",
       "      <td>336.0</td>\n",
       "      <td>1122.0</td>\n",
       "      <td>594.0</td>\n",
       "      <td>1059.0</td>\n",
       "      <td>0.277</td>\n",
       "      <td>0.339</td>\n",
       "      <td>0.485</td>\n",
       "      <td>0.994</td>\n",
       "      <td>First_base</td>\n",
       "      <td>0</td>\n",
       "    </tr>\n",
       "    <tr>\n",
       "      <th>...</th>\n",
       "      <td>...</td>\n",
       "      <td>...</td>\n",
       "      <td>...</td>\n",
       "      <td>...</td>\n",
       "      <td>...</td>\n",
       "      <td>...</td>\n",
       "      <td>...</td>\n",
       "      <td>...</td>\n",
       "      <td>...</td>\n",
       "      <td>...</td>\n",
       "      <td>...</td>\n",
       "      <td>...</td>\n",
       "      <td>...</td>\n",
       "      <td>...</td>\n",
       "      <td>...</td>\n",
       "      <td>...</td>\n",
       "      <td>...</td>\n",
       "    </tr>\n",
       "    <tr>\n",
       "      <th>1335</th>\n",
       "      <td>11.0</td>\n",
       "      <td>1234.0</td>\n",
       "      <td>4131.0</td>\n",
       "      <td>572.0</td>\n",
       "      <td>1093.0</td>\n",
       "      <td>159.0</td>\n",
       "      <td>22.0</td>\n",
       "      <td>237.0</td>\n",
       "      <td>776.0</td>\n",
       "      <td>383.0</td>\n",
       "      <td>755.0</td>\n",
       "      <td>0.265</td>\n",
       "      <td>0.331</td>\n",
       "      <td>0.486</td>\n",
       "      <td>0.968</td>\n",
       "      <td>Outfield</td>\n",
       "      <td>0</td>\n",
       "    </tr>\n",
       "    <tr>\n",
       "      <th>1336</th>\n",
       "      <td>19.0</td>\n",
       "      <td>1280.0</td>\n",
       "      <td>4546.0</td>\n",
       "      <td>617.0</td>\n",
       "      <td>1224.0</td>\n",
       "      <td>222.0</td>\n",
       "      <td>76.0</td>\n",
       "      <td>26.0</td>\n",
       "      <td>620.0</td>\n",
       "      <td>390.0</td>\n",
       "      <td>323.0</td>\n",
       "      <td>0.269</td>\n",
       "      <td>0.339</td>\n",
       "      <td>0.369</td>\n",
       "      <td>0.952</td>\n",
       "      <td>Catcher</td>\n",
       "      <td>0</td>\n",
       "    </tr>\n",
       "    <tr>\n",
       "      <th>1337</th>\n",
       "      <td>12.0</td>\n",
       "      <td>1095.0</td>\n",
       "      <td>3283.0</td>\n",
       "      <td>353.0</td>\n",
       "      <td>773.0</td>\n",
       "      <td>130.0</td>\n",
       "      <td>22.0</td>\n",
       "      <td>91.0</td>\n",
       "      <td>352.0</td>\n",
       "      <td>246.0</td>\n",
       "      <td>678.0</td>\n",
       "      <td>0.235</td>\n",
       "      <td>0.291</td>\n",
       "      <td>0.372</td>\n",
       "      <td>0.941</td>\n",
       "      <td>Third_base</td>\n",
       "      <td>0</td>\n",
       "    </tr>\n",
       "    <tr>\n",
       "      <th>1338</th>\n",
       "      <td>13.0</td>\n",
       "      <td>1456.0</td>\n",
       "      <td>5304.0</td>\n",
       "      <td>695.0</td>\n",
       "      <td>1566.0</td>\n",
       "      <td>275.0</td>\n",
       "      <td>105.0</td>\n",
       "      <td>58.0</td>\n",
       "      <td>796.0</td>\n",
       "      <td>242.0</td>\n",
       "      <td>404.0</td>\n",
       "      <td>0.295</td>\n",
       "      <td>0.331</td>\n",
       "      <td>0.419</td>\n",
       "      <td>0.928</td>\n",
       "      <td>Third_base</td>\n",
       "      <td>0</td>\n",
       "    </tr>\n",
       "    <tr>\n",
       "      <th>1339</th>\n",
       "      <td>13.0</td>\n",
       "      <td>1453.0</td>\n",
       "      <td>5144.0</td>\n",
       "      <td>681.0</td>\n",
       "      <td>1477.0</td>\n",
       "      <td>245.0</td>\n",
       "      <td>26.0</td>\n",
       "      <td>207.0</td>\n",
       "      <td>792.0</td>\n",
       "      <td>533.0</td>\n",
       "      <td>910.0</td>\n",
       "      <td>0.287</td>\n",
       "      <td>0.355</td>\n",
       "      <td>0.466</td>\n",
       "      <td>0.981</td>\n",
       "      <td>Outfield</td>\n",
       "      <td>0</td>\n",
       "    </tr>\n",
       "  </tbody>\n",
       "</table>\n",
       "<p>1340 rows × 17 columns</p>\n",
       "</div>"
      ],
      "text/plain": [
       "      Number_seasons  Games_played  At_bats    Runs    Hits  Doubles  Triples   \n",
       "0               23.0        3298.0  12364.0  2174.0  3771.0    624.0     98.0  \\\n",
       "1               13.0        1165.0   4019.0   378.0  1022.0    163.0     19.0   \n",
       "2               13.0        1424.0   5557.0   844.0  1588.0    249.0     48.0   \n",
       "3               14.0        1281.0   4019.0   591.0  1082.0    188.0     49.0   \n",
       "4               17.0        1959.0   6606.0   823.0  1832.0    295.0     35.0   \n",
       "...              ...           ...      ...     ...     ...      ...      ...   \n",
       "1335            11.0        1234.0   4131.0   572.0  1093.0    159.0     22.0   \n",
       "1336            19.0        1280.0   4546.0   617.0  1224.0    222.0     76.0   \n",
       "1337            12.0        1095.0   3283.0   353.0   773.0    130.0     22.0   \n",
       "1338            13.0        1456.0   5304.0   695.0  1566.0    275.0    105.0   \n",
       "1339            13.0        1453.0   5144.0   681.0  1477.0    245.0     26.0   \n",
       "\n",
       "      Home_runs    RBIs   Walks  Strikeouts  Batting_average  On_base_pct   \n",
       "0         755.0  2297.0  1402.0      1383.0            0.305        0.377  \\\n",
       "1          57.0   366.0   208.0       499.0            0.254        0.294   \n",
       "2           9.0   394.0   453.0       223.0            0.286        0.343   \n",
       "3          37.0   303.0   414.0       447.0            0.269        0.340   \n",
       "4         336.0  1122.0   594.0      1059.0            0.277        0.339   \n",
       "...         ...     ...     ...         ...              ...          ...   \n",
       "1335      237.0   776.0   383.0       755.0            0.265        0.331   \n",
       "1336       26.0   620.0   390.0       323.0            0.269        0.339   \n",
       "1337       91.0   352.0   246.0       678.0            0.235        0.291   \n",
       "1338       58.0   796.0   242.0       404.0            0.295        0.331   \n",
       "1339      207.0   792.0   533.0       910.0            0.287        0.355   \n",
       "\n",
       "      Slugging_pct  Fielding_ave     Position  Hall_of_Fame  \n",
       "0            0.555         0.980     Outfield             1  \n",
       "1            0.347         0.985  Second_base             0  \n",
       "2            0.353         0.974  Second_base             0  \n",
       "3            0.368         0.955   Third_base             0  \n",
       "4            0.485         0.994   First_base             0  \n",
       "...            ...           ...          ...           ...  \n",
       "1335         0.486         0.968     Outfield             0  \n",
       "1336         0.369         0.952      Catcher             0  \n",
       "1337         0.372         0.941   Third_base             0  \n",
       "1338         0.419         0.928   Third_base             0  \n",
       "1339         0.466         0.981     Outfield             0  \n",
       "\n",
       "[1340 rows x 17 columns]"
      ]
     },
     "execution_count": 30,
     "metadata": {},
     "output_type": "execute_result"
    }
   ],
   "source": [
    "df = pd.read_csv(r'podaci\\baseball.csv')\n",
    "df"
   ]
  },
  {
   "cell_type": "markdown",
   "id": "73065933",
   "metadata": {},
   "source": [
    "#  Rad sa nedostajucim vrednostima"
   ]
  },
  {
   "cell_type": "code",
   "execution_count": 31,
   "id": "01fa3c8f",
   "metadata": {
    "ExecuteTime": {
     "end_time": "2023-04-29T10:17:49.615993Z",
     "start_time": "2023-04-29T10:17:49.595458Z"
    },
    "scrolled": true
   },
   "outputs": [
    {
     "data": {
      "text/plain": [
       "True"
      ]
     },
     "execution_count": 31,
     "metadata": {},
     "output_type": "execute_result"
    }
   ],
   "source": [
    "df.isna().any().any()"
   ]
  },
  {
   "cell_type": "code",
   "execution_count": 32,
   "id": "57131827",
   "metadata": {
    "ExecuteTime": {
     "end_time": "2023-04-29T10:17:49.956895Z",
     "start_time": "2023-04-29T10:17:49.925678Z"
    },
    "scrolled": false
   },
   "outputs": [
    {
     "data": {
      "text/plain": [
       "Number_seasons     False\n",
       "Games_played       False\n",
       "At_bats            False\n",
       "Runs               False\n",
       "Hits               False\n",
       "Doubles            False\n",
       "Triples            False\n",
       "Home_runs          False\n",
       "RBIs               False\n",
       "Walks              False\n",
       "Strikeouts          True\n",
       "Batting_average    False\n",
       "On_base_pct        False\n",
       "Slugging_pct       False\n",
       "Fielding_ave       False\n",
       "Position           False\n",
       "Hall_of_Fame       False\n",
       "dtype: bool"
      ]
     },
     "execution_count": 32,
     "metadata": {},
     "output_type": "execute_result"
    }
   ],
   "source": [
    "df.isna().any()"
   ]
  },
  {
   "cell_type": "code",
   "execution_count": 33,
   "id": "5f8a4466",
   "metadata": {
    "ExecuteTime": {
     "end_time": "2023-04-29T10:17:50.255434Z",
     "start_time": "2023-04-29T10:17:50.239204Z"
    }
   },
   "outputs": [
    {
     "data": {
      "text/plain": [
       "Number_seasons      0\n",
       "Games_played        0\n",
       "At_bats             0\n",
       "Runs                0\n",
       "Hits                0\n",
       "Doubles             0\n",
       "Triples             0\n",
       "Home_runs           0\n",
       "RBIs                0\n",
       "Walks               0\n",
       "Strikeouts         20\n",
       "Batting_average     0\n",
       "On_base_pct         0\n",
       "Slugging_pct        0\n",
       "Fielding_ave        0\n",
       "Position            0\n",
       "Hall_of_Fame        0\n",
       "dtype: int64"
      ]
     },
     "execution_count": 33,
     "metadata": {},
     "output_type": "execute_result"
    }
   ],
   "source": [
    "df.isna().sum()"
   ]
  },
  {
   "cell_type": "code",
   "execution_count": 34,
   "id": "553fa52e",
   "metadata": {
    "ExecuteTime": {
     "end_time": "2023-04-29T10:17:50.574508Z",
     "start_time": "2023-04-29T10:17:50.555475Z"
    }
   },
   "outputs": [
    {
     "data": {
      "text/plain": [
       "array([1.383e+03, 4.990e+02, 2.230e+02, 4.470e+02, 1.059e+03, 9.180e+02,\n",
       "       2.200e+02, 3.150e+02, 4.240e+02, 3.100e+02, 1.556e+03, 6.220e+02,\n",
       "       1.033e+03, 6.360e+02, 4.820e+02, 7.060e+02, 2.670e+02, 3.770e+02,\n",
       "       2.240e+02, 2.800e+02, 3.310e+02, 5.500e+01, 2.940e+02, 7.420e+02,\n",
       "       5.280e+02, 2.410e+02, 1.201e+03, 5.710e+02, 4.590e+02, 1.240e+02,\n",
       "       1.980e+02, 3.630e+02, 5.180e+02, 3.990e+02, 1.360e+02, 3.440e+02,\n",
       "       5.770e+02, 1.126e+03, 1.640e+02, 1.650e+02, 1.820e+02, 9.260e+02,\n",
       "       4.870e+02, 9.230e+02, 1.236e+03, 3.180e+02, 1.234e+03,       nan,\n",
       "       2.090e+02, 1.420e+02, 6.270e+02, 1.680e+02, 6.100e+02, 4.700e+02,\n",
       "       1.630e+02, 6.380e+02, 2.580e+02, 1.069e+03, 1.500e+02, 1.400e+01,\n",
       "       2.430e+02, 2.700e+02, 8.390e+02, 7.760e+02, 1.278e+03, 2.510e+02,\n",
       "       4.500e+01, 5.510e+02, 5.720e+02, 2.680e+02, 1.170e+02, 8.100e+01,\n",
       "       6.940e+02, 3.470e+02, 6.060e+02, 4.220e+02, 4.140e+02, 1.340e+02,\n",
       "       5.690e+02, 1.960e+02, 2.520e+02, 4.510e+02, 3.290e+02, 1.290e+02,\n",
       "       1.610e+02, 2.870e+02, 3.950e+02, 7.300e+01, 4.520e+02, 8.770e+02,\n",
       "       4.620e+02, 4.070e+02, 4.360e+02, 5.150e+02, 2.460e+02, 6.620e+02,\n",
       "       5.580e+02, 1.757e+03, 3.870e+02, 4.630e+02, 6.080e+02, 1.860e+02,\n",
       "       2.750e+02, 2.390e+02, 5.910e+02, 3.090e+02, 0.000e+00, 9.310e+02,\n",
       "       1.017e+03, 2.330e+02, 4.110e+02, 1.800e+01, 5.740e+02, 4.100e+01,\n",
       "       4.330e+02, 9.900e+01, 7.230e+02, 2.290e+02, 9.800e+01, 7.850e+02,\n",
       "       8.450e+02, 4.690e+02, 1.730e+03, 1.480e+02, 6.050e+02, 2.380e+02,\n",
       "       6.160e+02, 7.080e+02, 1.000e+00, 1.670e+02, 7.930e+02, 4.530e+02,\n",
       "       5.750e+02, 7.090e+02, 3.050e+02, 2.300e+02, 4.770e+02, 5.650e+02,\n",
       "       4.540e+02, 1.135e+03, 4.390e+02, 3.460e+02, 9.700e+01, 6.910e+02,\n",
       "       9.000e+00, 1.064e+03, 9.610e+02, 5.010e+02, 1.142e+03, 5.840e+02,\n",
       "       3.540e+02, 6.110e+02, 8.070e+02, 1.028e+03, 3.890e+02, 6.950e+02,\n",
       "       9.100e+01, 4.670e+02, 5.900e+01, 2.900e+02, 9.970e+02, 6.630e+02,\n",
       "       7.900e+01, 4.300e+02, 2.970e+02, 1.091e+03, 1.270e+02, 2.910e+02,\n",
       "       4.060e+02, 3.410e+02, 5.980e+02, 9.380e+02, 1.169e+03, 4.500e+02,\n",
       "       3.920e+02, 1.235e+03, 2.900e+01, 4.710e+02, 6.820e+02, 5.560e+02,\n",
       "       3.060e+02, 2.420e+02, 4.740e+02, 1.441e+03, 1.350e+02, 3.620e+02,\n",
       "       1.770e+02, 5.800e+01, 1.230e+03, 2.990e+02, 1.140e+03, 7.130e+02,\n",
       "       2.620e+02, 9.400e+01, 3.840e+02, 3.570e+02, 2.170e+02, 8.800e+02,\n",
       "       9.020e+02, 6.600e+02, 2.860e+02, 3.200e+01, 4.050e+02, 2.630e+02,\n",
       "       2.000e+02, 2.780e+02, 8.400e+01, 1.580e+02, 1.186e+03, 4.490e+02,\n",
       "       1.070e+02, 9.110e+02, 2.050e+02, 8.000e+01, 1.430e+02, 6.590e+02,\n",
       "       2.180e+02, 3.450e+02, 5.140e+02, 1.040e+02, 6.640e+02, 2.570e+02,\n",
       "       4.030e+02, 7.000e+02, 7.990e+02, 9.000e+01, 1.000e+02, 1.810e+02,\n",
       "       2.500e+02, 1.031e+03, 5.080e+02, 4.970e+02, 3.690e+02, 7.520e+02,\n",
       "       2.690e+02, 4.010e+02, 2.080e+02, 3.590e+02, 5.340e+02, 4.890e+02,\n",
       "       2.190e+02, 6.730e+02, 1.800e+02, 7.540e+02, 7.120e+02, 5.370e+02,\n",
       "       3.260e+02, 9.770e+02, 1.210e+02, 1.190e+02, 9.040e+02, 2.440e+02,\n",
       "       2.400e+01, 5.110e+02, 6.580e+02, 3.500e+01, 7.360e+02, 6.020e+02,\n",
       "       3.490e+02, 3.010e+02, 1.050e+02, 4.290e+02, 2.890e+02, 1.970e+02,\n",
       "       8.370e+02, 1.011e+03, 1.300e+01, 3.900e+01, 1.440e+02, 1.310e+02,\n",
       "       8.700e+01, 3.760e+02, 1.790e+02, 3.120e+02, 1.127e+03, 1.320e+02,\n",
       "       2.740e+02, 7.190e+02, 5.820e+02, 3.420e+02, 2.110e+02, 4.180e+02,\n",
       "       6.770e+02, 6.790e+02, 4.800e+02, 4.020e+02, 4.150e+02, 8.490e+02,\n",
       "       6.960e+02, 2.640e+02, 6.350e+02, 3.360e+02, 4.000e+00, 6.040e+02,\n",
       "       1.080e+02, 5.360e+02, 1.710e+02, 5.290e+02, 2.060e+02, 1.410e+03,\n",
       "       1.697e+03, 1.520e+02, 4.200e+02, 9.300e+01, 2.790e+02, 6.070e+02,\n",
       "       2.770e+02, 2.350e+02, 4.320e+02, 2.530e+02, 2.880e+02, 2.930e+02,\n",
       "       3.480e+02, 4.950e+02, 4.610e+02, 6.090e+02, 1.390e+02, 3.200e+02,\n",
       "       2.950e+02, 1.990e+02, 2.610e+02, 7.220e+02, 2.550e+02, 1.419e+03,\n",
       "       4.080e+02, 2.160e+02, 1.311e+03, 7.530e+02, 2.000e+00, 5.350e+02,\n",
       "       1.097e+03, 5.250e+02, 4.980e+02, 2.720e+02, 5.610e+02, 1.840e+02,\n",
       "       1.560e+02, 3.930e+02, 5.460e+02, 2.850e+02, 3.220e+02, 2.820e+02,\n",
       "       8.420e+02, 4.450e+02, 1.003e+03, 6.930e+02, 5.090e+02, 7.900e+02,\n",
       "       3.720e+02, 4.660e+02, 1.870e+02, 7.460e+02, 2.310e+02, 4.160e+02,\n",
       "       2.120e+02, 1.410e+02, 3.800e+02, 7.020e+02, 3.560e+02, 3.320e+02,\n",
       "       3.160e+02, 5.850e+02, 2.470e+02, 4.000e+01, 1.920e+02, 5.260e+02,\n",
       "       2.600e+02, 8.440e+02, 8.980e+02, 7.700e+01, 4.100e+02, 5.120e+02,\n",
       "       4.960e+02, 6.000e+02, 8.620e+02, 4.270e+02, 4.440e+02, 2.400e+02,\n",
       "       5.930e+02, 2.830e+02, 2.040e+02, 1.750e+02, 6.430e+02, 5.500e+02,\n",
       "       1.080e+03, 8.680e+02, 6.530e+02, 1.880e+02, 5.730e+02, 6.970e+02,\n",
       "       1.180e+02, 3.780e+02, 8.040e+02, 6.700e+02, 3.250e+02, 7.410e+02,\n",
       "       9.440e+02, 2.480e+02, 7.630e+02, 1.013e+03, 3.190e+02, 3.830e+02,\n",
       "       5.530e+02, 4.280e+02, 1.012e+03, 3.610e+02, 3.110e+02, 3.070e+02,\n",
       "       8.320e+02, 5.900e+02, 1.300e+02, 1.740e+02, 3.040e+02, 6.850e+02,\n",
       "       9.410e+02, 2.980e+02, 5.300e+02, 2.560e+02, 1.137e+03, 1.220e+02,\n",
       "       4.120e+02, 1.313e+03, 1.470e+02, 7.860e+02, 1.460e+03, 6.750e+02,\n",
       "       2.100e+02, 6.400e+02, 3.820e+02, 1.400e+02, 4.200e+01, 2.597e+03,\n",
       "       2.650e+02, 7.640e+02, 8.120e+02, 6.260e+02, 1.318e+03, 1.530e+02,\n",
       "       8.510e+02, 2.920e+02, 6.320e+02, 1.600e+01, 1.500e+01, 7.560e+02,\n",
       "       8.170e+02, 5.410e+02, 8.270e+02, 1.090e+02, 5.890e+02, 3.380e+02,\n",
       "       4.780e+02, 1.020e+03, 3.530e+02, 3.600e+01, 1.110e+02, 1.330e+02,\n",
       "       7.680e+02, 4.170e+02, 4.430e+02, 8.550e+02, 7.590e+02, 1.699e+03,\n",
       "       1.260e+02, 7.490e+02, 1.816e+03, 9.200e+01, 7.440e+02, 1.660e+02,\n",
       "       5.210e+02, 7.100e+01, 1.140e+02, 3.650e+02, 1.910e+02, 5.790e+02,\n",
       "       1.900e+02, 5.450e+02, 2.140e+02, 3.500e+02, 5.810e+02, 3.390e+02,\n",
       "       4.040e+02, 6.120e+02, 5.950e+02, 6.570e+02, 8.500e+01, 7.670e+02,\n",
       "       4.210e+02, 8.640e+02, 1.890e+02, 3.350e+02, 5.640e+02, 1.024e+03,\n",
       "       7.870e+02, 1.000e+03, 3.030e+02, 1.160e+02, 3.660e+02, 2.760e+02,\n",
       "       4.720e+02, 4.600e+02, 8.520e+02, 5.380e+02, 2.130e+02, 5.960e+02,\n",
       "       2.260e+02, 1.495e+03, 1.116e+03, 3.580e+02, 7.810e+02, 5.100e+02,\n",
       "       4.340e+02, 1.020e+02, 4.640e+02, 3.520e+02, 1.710e+03, 7.330e+02,\n",
       "       8.100e+02, 3.550e+02, 4.380e+02, 4.190e+02, 1.487e+03, 1.125e+03,\n",
       "       1.570e+03, 4.810e+02, 1.526e+03, 9.740e+02, 4.570e+02, 2.710e+02,\n",
       "       1.730e+02, 3.000e+01, 1.550e+03, 5.440e+02, 3.980e+02, 6.230e+02,\n",
       "       1.900e+01, 1.000e+01, 1.570e+02, 7.400e+01, 7.110e+02, 8.150e+02,\n",
       "       3.280e+02, 6.340e+02, 7.790e+02, 6.690e+02, 8.530e+02, 5.830e+02,\n",
       "       6.190e+02, 3.130e+02, 1.760e+02, 3.400e+02, 4.650e+02, 4.730e+02,\n",
       "       6.680e+02, 5.240e+02, 1.513e+03, 8.660e+02, 7.510e+02, 3.680e+02,\n",
       "       5.670e+02, 8.850e+02, 1.015e+03, 6.560e+02, 1.460e+02, 5.550e+02,\n",
       "       6.880e+02, 8.410e+02, 9.530e+02, 2.370e+02, 1.224e+03, 1.940e+02,\n",
       "       1.950e+02, 6.200e+01, 4.900e+01, 1.209e+03, 8.280e+02, 8.800e+01,\n",
       "       1.830e+02, 6.650e+02, 1.490e+02, 3.960e+02, 6.810e+02, 1.250e+02,\n",
       "       3.400e+01, 6.450e+02, 2.220e+02, 7.150e+02, 1.008e+03, 8.960e+02,\n",
       "       7.040e+02, 4.940e+02, 1.537e+03, 1.359e+03, 7.600e+01, 1.867e+03,\n",
       "       2.210e+02, 9.580e+02, 4.600e+01, 3.140e+02, 2.340e+02, 2.150e+02,\n",
       "       1.196e+03, 1.510e+02, 1.025e+03, 8.130e+02, 1.226e+03, 3.600e+02,\n",
       "       6.390e+02, 1.850e+02, 5.070e+02, 1.700e+02, 4.350e+02, 1.055e+03,\n",
       "       3.730e+02, 6.210e+02, 5.050e+02, 8.900e+02, 6.720e+02, 3.080e+02,\n",
       "       5.220e+02, 1.423e+03, 5.230e+02, 9.900e+02, 1.532e+03, 1.780e+02,\n",
       "       8.200e+02, 9.430e+02, 4.850e+02, 1.590e+02, 5.040e+02, 1.143e+03,\n",
       "       3.850e+02, 8.700e+02, 6.670e+02, 1.330e+03, 3.700e+02, 1.343e+03,\n",
       "       2.250e+02, 7.140e+02, 2.800e+01, 1.883e+03, 1.418e+03, 7.800e+02,\n",
       "       1.690e+02, 1.450e+02, 6.710e+02, 1.150e+02, 7.480e+02, 9.200e+02,\n",
       "       7.370e+02, 4.830e+02, 1.246e+03, 3.270e+02, 4.400e+02, 6.460e+02,\n",
       "       9.080e+02, 1.030e+03, 1.060e+02, 1.237e+03, 5.300e+01, 9.880e+02,\n",
       "       5.160e+02, 3.740e+02, 1.936e+03, 8.880e+02, 4.130e+02, 2.540e+02,\n",
       "       3.210e+02, 3.430e+02, 6.000e+00, 9.570e+02, 4.560e+02, 5.700e+01,\n",
       "       9.630e+02, 5.590e+02, 5.100e+01, 1.083e+03, 1.092e+03, 9.980e+02,\n",
       "       4.300e+01, 8.200e+01, 8.940e+02, 8.000e+00, 1.339e+03, 1.100e+01,\n",
       "       5.870e+02, 1.094e+03, 3.170e+02, 2.450e+02, 6.420e+02, 2.840e+02,\n",
       "       1.280e+02, 3.670e+02, 8.690e+02, 6.470e+02, 6.300e+01, 7.750e+02,\n",
       "       3.300e+01, 1.266e+03, 2.660e+02, 4.090e+02, 7.960e+02, 5.400e+02,\n",
       "       1.035e+03, 3.810e+02, 9.270e+02, 4.910e+02, 1.046e+03, 7.210e+02,\n",
       "       5.320e+02, 6.840e+02, 5.470e+02, 6.700e+01, 4.790e+02, 1.427e+03,\n",
       "       4.370e+02, 1.393e+03, 7.260e+02, 8.670e+02, 3.900e+02, 7.550e+02,\n",
       "       3.230e+02, 6.780e+02, 9.100e+02])"
      ]
     },
     "execution_count": 34,
     "metadata": {},
     "output_type": "execute_result"
    }
   ],
   "source": [
    "df['Strikeouts'].unique()"
   ]
  },
  {
   "cell_type": "code",
   "execution_count": 35,
   "id": "634292b7",
   "metadata": {
    "ExecuteTime": {
     "end_time": "2023-04-29T10:17:51.592001Z",
     "start_time": "2023-04-29T10:17:50.905778Z"
    }
   },
   "outputs": [
    {
     "data": {
      "text/plain": [
       "<Axes: >"
      ]
     },
     "execution_count": 35,
     "metadata": {},
     "output_type": "execute_result"
    },
    {
     "data": {
      "image/png": "[encoded data removed]",
      "text/plain": [
       "<Figure size 640x480 with 1 Axes>"
      ]
     },
     "metadata": {},
     "output_type": "display_data"
    }
   ],
   "source": [
    "df['Strikeouts'].hist()"
   ]
  },
  {
   "cell_type": "markdown",
   "id": "3a22f99d",
   "metadata": {},
   "source": [
    "## Izbacivanje nepoznatih instanci"
   ]
  },
  {
   "cell_type": "code",
   "execution_count": 36,
   "id": "a5d0442b",
   "metadata": {
    "ExecuteTime": {
     "end_time": "2023-04-29T10:18:17.441005Z",
     "start_time": "2023-04-29T10:18:17.405891Z"
    }
   },
   "outputs": [],
   "source": [
    "dfbezna = df.dropna()"
   ]
  },
  {
   "cell_type": "code",
   "execution_count": 37,
   "id": "178d9e92",
   "metadata": {
    "ExecuteTime": {
     "end_time": "2023-04-29T10:18:23.557044Z",
     "start_time": "2023-04-29T10:18:23.514597Z"
    }
   },
   "outputs": [
    {
     "data": {
      "text/html": [
       "<div>\n",
       "<style scoped>\n",
       "    .dataframe tbody tr th:only-of-type {\n",
       "        vertical-align: middle;\n",
       "    }\n",
       "\n",
       "    .dataframe tbody tr th {\n",
       "        vertical-align: top;\n",
       "    }\n",
       "\n",
       "    .dataframe thead th {\n",
       "        text-align: right;\n",
       "    }\n",
       "</style>\n",
       "<table border=\"1\" class=\"dataframe\">\n",
       "  <thead>\n",
       "    <tr style=\"text-align: right;\">\n",
       "      <th></th>\n",
       "      <th>Number_seasons</th>\n",
       "      <th>Games_played</th>\n",
       "      <th>At_bats</th>\n",
       "      <th>Runs</th>\n",
       "      <th>Hits</th>\n",
       "      <th>Doubles</th>\n",
       "      <th>Triples</th>\n",
       "      <th>Home_runs</th>\n",
       "      <th>RBIs</th>\n",
       "      <th>Walks</th>\n",
       "      <th>Strikeouts</th>\n",
       "      <th>Batting_average</th>\n",
       "      <th>On_base_pct</th>\n",
       "      <th>Slugging_pct</th>\n",
       "      <th>Fielding_ave</th>\n",
       "      <th>Hall_of_Fame</th>\n",
       "    </tr>\n",
       "  </thead>\n",
       "  <tbody>\n",
       "    <tr>\n",
       "      <th>count</th>\n",
       "      <td>1320.000000</td>\n",
       "      <td>1320.000000</td>\n",
       "      <td>1320.000000</td>\n",
       "      <td>1320.000000</td>\n",
       "      <td>1320.000000</td>\n",
       "      <td>1320.000000</td>\n",
       "      <td>1320.000000</td>\n",
       "      <td>1320.000000</td>\n",
       "      <td>1320.000000</td>\n",
       "      <td>1320.000000</td>\n",
       "      <td>1320.000000</td>\n",
       "      <td>1320.000000</td>\n",
       "      <td>1320.000000</td>\n",
       "      <td>1320.000000</td>\n",
       "      <td>1320.000000</td>\n",
       "      <td>1320.000000</td>\n",
       "    </tr>\n",
       "    <tr>\n",
       "      <th>mean</th>\n",
       "      <td>13.524242</td>\n",
       "      <td>1333.781061</td>\n",
       "      <td>4538.432576</td>\n",
       "      <td>636.122727</td>\n",
       "      <td>1249.893939</td>\n",
       "      <td>203.922727</td>\n",
       "      <td>50.515909</td>\n",
       "      <td>86.099242</td>\n",
       "      <td>567.679545</td>\n",
       "      <td>446.745455</td>\n",
       "      <td>445.685606</td>\n",
       "      <td>0.268783</td>\n",
       "      <td>0.336177</td>\n",
       "      <td>0.385898</td>\n",
       "      <td>0.966612</td>\n",
       "      <td>0.144697</td>\n",
       "    </tr>\n",
       "    <tr>\n",
       "      <th>std</th>\n",
       "      <td>3.140774</td>\n",
       "      <td>521.659276</td>\n",
       "      <td>2105.777926</td>\n",
       "      <td>378.343587</td>\n",
       "      <td>651.177590</td>\n",
       "      <td>117.135038</td>\n",
       "      <td>41.029379</td>\n",
       "      <td>98.315887</td>\n",
       "      <td>358.922775</td>\n",
       "      <td>296.307796</td>\n",
       "      <td>325.319204</td>\n",
       "      <td>0.026215</td>\n",
       "      <td>0.033642</td>\n",
       "      <td>0.060605</td>\n",
       "      <td>0.025221</td>\n",
       "      <td>0.474811</td>\n",
       "    </tr>\n",
       "    <tr>\n",
       "      <th>min</th>\n",
       "      <td>10.000000</td>\n",
       "      <td>140.000000</td>\n",
       "      <td>252.000000</td>\n",
       "      <td>20.000000</td>\n",
       "      <td>48.000000</td>\n",
       "      <td>6.000000</td>\n",
       "      <td>0.000000</td>\n",
       "      <td>0.000000</td>\n",
       "      <td>21.000000</td>\n",
       "      <td>17.000000</td>\n",
       "      <td>0.000000</td>\n",
       "      <td>0.161000</td>\n",
       "      <td>0.194000</td>\n",
       "      <td>0.201000</td>\n",
       "      <td>0.820000</td>\n",
       "      <td>0.000000</td>\n",
       "    </tr>\n",
       "    <tr>\n",
       "      <th>25%</th>\n",
       "      <td>11.000000</td>\n",
       "      <td>957.250000</td>\n",
       "      <td>2962.750000</td>\n",
       "      <td>354.500000</td>\n",
       "      <td>757.250000</td>\n",
       "      <td>115.750000</td>\n",
       "      <td>22.000000</td>\n",
       "      <td>22.000000</td>\n",
       "      <td>305.000000</td>\n",
       "      <td>232.750000</td>\n",
       "      <td>218.000000</td>\n",
       "      <td>0.252000</td>\n",
       "      <td>0.315000</td>\n",
       "      <td>0.344000</td>\n",
       "      <td>0.958000</td>\n",
       "      <td>0.000000</td>\n",
       "    </tr>\n",
       "    <tr>\n",
       "      <th>50%</th>\n",
       "      <td>13.000000</td>\n",
       "      <td>1283.500000</td>\n",
       "      <td>4300.500000</td>\n",
       "      <td>572.500000</td>\n",
       "      <td>1167.500000</td>\n",
       "      <td>186.000000</td>\n",
       "      <td>40.000000</td>\n",
       "      <td>52.000000</td>\n",
       "      <td>490.000000</td>\n",
       "      <td>380.500000</td>\n",
       "      <td>365.500000</td>\n",
       "      <td>0.267000</td>\n",
       "      <td>0.335000</td>\n",
       "      <td>0.381000</td>\n",
       "      <td>0.974000</td>\n",
       "      <td>0.000000</td>\n",
       "    </tr>\n",
       "    <tr>\n",
       "      <th>75%</th>\n",
       "      <td>15.000000</td>\n",
       "      <td>1656.500000</td>\n",
       "      <td>5831.000000</td>\n",
       "      <td>844.750000</td>\n",
       "      <td>1615.000000</td>\n",
       "      <td>266.000000</td>\n",
       "      <td>69.000000</td>\n",
       "      <td>110.000000</td>\n",
       "      <td>737.000000</td>\n",
       "      <td>576.500000</td>\n",
       "      <td>593.000000</td>\n",
       "      <td>0.285000</td>\n",
       "      <td>0.358000</td>\n",
       "      <td>0.425000</td>\n",
       "      <td>0.984000</td>\n",
       "      <td>0.000000</td>\n",
       "    </tr>\n",
       "    <tr>\n",
       "      <th>max</th>\n",
       "      <td>26.000000</td>\n",
       "      <td>3562.000000</td>\n",
       "      <td>14053.000000</td>\n",
       "      <td>2246.000000</td>\n",
       "      <td>4256.000000</td>\n",
       "      <td>792.000000</td>\n",
       "      <td>309.000000</td>\n",
       "      <td>755.000000</td>\n",
       "      <td>2297.000000</td>\n",
       "      <td>2056.000000</td>\n",
       "      <td>2597.000000</td>\n",
       "      <td>0.366000</td>\n",
       "      <td>0.483000</td>\n",
       "      <td>0.690000</td>\n",
       "      <td>1.000000</td>\n",
       "      <td>2.000000</td>\n",
       "    </tr>\n",
       "  </tbody>\n",
       "</table>\n",
       "</div>"
      ],
      "text/plain": [
       "       Number_seasons  Games_played       At_bats         Runs         Hits   \n",
       "count     1320.000000   1320.000000   1320.000000  1320.000000  1320.000000  \\\n",
       "mean        13.524242   1333.781061   4538.432576   636.122727  1249.893939   \n",
       "std          3.140774    521.659276   2105.777926   378.343587   651.177590   \n",
       "min         10.000000    140.000000    252.000000    20.000000    48.000000   \n",
       "25%         11.000000    957.250000   2962.750000   354.500000   757.250000   \n",
       "50%         13.000000   1283.500000   4300.500000   572.500000  1167.500000   \n",
       "75%         15.000000   1656.500000   5831.000000   844.750000  1615.000000   \n",
       "max         26.000000   3562.000000  14053.000000  2246.000000  4256.000000   \n",
       "\n",
       "           Doubles      Triples    Home_runs         RBIs        Walks   \n",
       "count  1320.000000  1320.000000  1320.000000  1320.000000  1320.000000  \\\n",
       "mean    203.922727    50.515909    86.099242   567.679545   446.745455   \n",
       "std     117.135038    41.029379    98.315887   358.922775   296.307796   \n",
       "min       6.000000     0.000000     0.000000    21.000000    17.000000   \n",
       "25%     115.750000    22.000000    22.000000   305.000000   232.750000   \n",
       "50%     186.000000    40.000000    52.000000   490.000000   380.500000   \n",
       "75%     266.000000    69.000000   110.000000   737.000000   576.500000   \n",
       "max     792.000000   309.000000   755.000000  2297.000000  2056.000000   \n",
       "\n",
       "        Strikeouts  Batting_average  On_base_pct  Slugging_pct  Fielding_ave   \n",
       "count  1320.000000      1320.000000  1320.000000   1320.000000   1320.000000  \\\n",
       "mean    445.685606         0.268783     0.336177      0.385898      0.966612   \n",
       "std     325.319204         0.026215     0.033642      0.060605      0.025221   \n",
       "min       0.000000         0.161000     0.194000      0.201000      0.820000   \n",
       "25%     218.000000         0.252000     0.315000      0.344000      0.958000   \n",
       "50%     365.500000         0.267000     0.335000      0.381000      0.974000   \n",
       "75%     593.000000         0.285000     0.358000      0.425000      0.984000   \n",
       "max    2597.000000         0.366000     0.483000      0.690000      1.000000   \n",
       "\n",
       "       Hall_of_Fame  \n",
       "count   1320.000000  \n",
       "mean       0.144697  \n",
       "std        0.474811  \n",
       "min        0.000000  \n",
       "25%        0.000000  \n",
       "50%        0.000000  \n",
       "75%        0.000000  \n",
       "max        2.000000  "
      ]
     },
     "execution_count": 37,
     "metadata": {},
     "output_type": "execute_result"
    }
   ],
   "source": [
    "dfbezna.describe()"
   ]
  },
  {
   "cell_type": "code",
   "execution_count": 38,
   "id": "04f67bbe",
   "metadata": {},
   "outputs": [
    {
     "data": {
      "text/plain": [
       "<Axes: >"
      ]
     },
     "execution_count": 38,
     "metadata": {},
     "output_type": "execute_result"
    },
    {
     "data": {
      "image/png": "[encoded data removed]",
      "text/plain": [
       "<Figure size 640x480 with 1 Axes>"
      ]
     },
     "metadata": {},
     "output_type": "display_data"
    }
   ],
   "source": [
    "dfbezna['Strikeouts'].hist()"
   ]
  },
  {
   "cell_type": "markdown",
   "id": "7772c2ff",
   "metadata": {},
   "source": [
    "## Forward fill"
   ]
  },
  {
   "cell_type": "code",
   "execution_count": 39,
   "id": "bd1dc03b",
   "metadata": {},
   "outputs": [
    {
     "data": {
      "text/plain": [
       "<Axes: >"
      ]
     },
     "execution_count": 39,
     "metadata": {},
     "output_type": "execute_result"
    },
    {
     "data": {
      "image/png": "[encoded data removed]",
      "text/plain": [
       "<Figure size 640x480 with 1 Axes>"
      ]
     },
     "metadata": {},
     "output_type": "display_data"
    }
   ],
   "source": [
    "df['Strikeouts'].ffill().hist()"
   ]
  },
  {
   "cell_type": "markdown",
   "id": "11671867",
   "metadata": {},
   "source": [
    "## Mean fill"
   ]
  },
  {
   "cell_type": "code",
   "execution_count": 40,
   "id": "6b34bdc2",
   "metadata": {
    "ExecuteTime": {
     "end_time": "2023-04-29T10:17:51.754070Z",
     "start_time": "2023-04-29T10:17:51.605587Z"
    }
   },
   "outputs": [
    {
     "data": {
      "text/plain": [
       "<Axes: >"
      ]
     },
     "execution_count": 40,
     "metadata": {},
     "output_type": "execute_result"
    },
    {
     "data": {
      "image/png": "[encoded data removed]",
      "text/plain": [
       "<Figure size 640x480 with 1 Axes>"
      ]
     },
     "metadata": {},
     "output_type": "display_data"
    }
   ],
   "source": [
    "df['Strikeouts'].fillna(df['Strikeouts'].mean()).hist()"
   ]
  },
  {
   "cell_type": "code",
   "execution_count": 41,
   "id": "0aee8830",
   "metadata": {},
   "outputs": [
    {
     "ename": "ValueError",
     "evalue": "could not convert string to float: 'Outfield'",
     "output_type": "error",
     "traceback": [
      "\u001b[1;31m---------------------------------------------------------------------------\u001b[0m",
      "\u001b[1;31mValueError\u001b[0m                                Traceback (most recent call last)",
      "Cell \u001b[1;32mIn[41], line 1\u001b[0m\n\u001b[1;32m----> 1\u001b[0m \u001b[43mdf\u001b[49m\u001b[38;5;241;43m.\u001b[39;49m\u001b[43mcorr\u001b[49m\u001b[43m(\u001b[49m\u001b[43m)\u001b[49m\n",
      "File \u001b[1;32m~\\AppData\\Local\\Programs\\Python\\Python311\\Lib\\site-packages\\pandas\\core\\frame.py:10054\u001b[0m, in \u001b[0;36mDataFrame.corr\u001b[1;34m(self, method, min_periods, numeric_only)\u001b[0m\n\u001b[0;32m  10052\u001b[0m cols \u001b[38;5;241m=\u001b[39m data\u001b[38;5;241m.\u001b[39mcolumns\n\u001b[0;32m  10053\u001b[0m idx \u001b[38;5;241m=\u001b[39m cols\u001b[38;5;241m.\u001b[39mcopy()\n\u001b[1;32m> 10054\u001b[0m mat \u001b[38;5;241m=\u001b[39m \u001b[43mdata\u001b[49m\u001b[38;5;241;43m.\u001b[39;49m\u001b[43mto_numpy\u001b[49m\u001b[43m(\u001b[49m\u001b[43mdtype\u001b[49m\u001b[38;5;241;43m=\u001b[39;49m\u001b[38;5;28;43mfloat\u001b[39;49m\u001b[43m,\u001b[49m\u001b[43m \u001b[49m\u001b[43mna_value\u001b[49m\u001b[38;5;241;43m=\u001b[39;49m\u001b[43mnp\u001b[49m\u001b[38;5;241;43m.\u001b[39;49m\u001b[43mnan\u001b[49m\u001b[43m,\u001b[49m\u001b[43m \u001b[49m\u001b[43mcopy\u001b[49m\u001b[38;5;241;43m=\u001b[39;49m\u001b[38;5;28;43;01mFalse\u001b[39;49;00m\u001b[43m)\u001b[49m\n\u001b[0;32m  10056\u001b[0m \u001b[38;5;28;01mif\u001b[39;00m method \u001b[38;5;241m==\u001b[39m \u001b[38;5;124m\"\u001b[39m\u001b[38;5;124mpearson\u001b[39m\u001b[38;5;124m\"\u001b[39m:\n\u001b[0;32m  10057\u001b[0m     correl \u001b[38;5;241m=\u001b[39m libalgos\u001b[38;5;241m.\u001b[39mnancorr(mat, minp\u001b[38;5;241m=\u001b[39mmin_periods)\n",
      "File \u001b[1;32m~\\AppData\\Local\\Programs\\Python\\Python311\\Lib\\site-packages\\pandas\\core\\frame.py:1837\u001b[0m, in \u001b[0;36mDataFrame.to_numpy\u001b[1;34m(self, dtype, copy, na_value)\u001b[0m\n\u001b[0;32m   1835\u001b[0m \u001b[38;5;28;01mif\u001b[39;00m dtype \u001b[38;5;129;01mis\u001b[39;00m \u001b[38;5;129;01mnot\u001b[39;00m \u001b[38;5;28;01mNone\u001b[39;00m:\n\u001b[0;32m   1836\u001b[0m     dtype \u001b[38;5;241m=\u001b[39m np\u001b[38;5;241m.\u001b[39mdtype(dtype)\n\u001b[1;32m-> 1837\u001b[0m result \u001b[38;5;241m=\u001b[39m \u001b[38;5;28;43mself\u001b[39;49m\u001b[38;5;241;43m.\u001b[39;49m\u001b[43m_mgr\u001b[49m\u001b[38;5;241;43m.\u001b[39;49m\u001b[43mas_array\u001b[49m\u001b[43m(\u001b[49m\u001b[43mdtype\u001b[49m\u001b[38;5;241;43m=\u001b[39;49m\u001b[43mdtype\u001b[49m\u001b[43m,\u001b[49m\u001b[43m \u001b[49m\u001b[43mcopy\u001b[49m\u001b[38;5;241;43m=\u001b[39;49m\u001b[43mcopy\u001b[49m\u001b[43m,\u001b[49m\u001b[43m \u001b[49m\u001b[43mna_value\u001b[49m\u001b[38;5;241;43m=\u001b[39;49m\u001b[43mna_value\u001b[49m\u001b[43m)\u001b[49m\n\u001b[0;32m   1838\u001b[0m \u001b[38;5;28;01mif\u001b[39;00m result\u001b[38;5;241m.\u001b[39mdtype \u001b[38;5;129;01mis\u001b[39;00m \u001b[38;5;129;01mnot\u001b[39;00m dtype:\n\u001b[0;32m   1839\u001b[0m     result \u001b[38;5;241m=\u001b[39m np\u001b[38;5;241m.\u001b[39marray(result, dtype\u001b[38;5;241m=\u001b[39mdtype, copy\u001b[38;5;241m=\u001b[39m\u001b[38;5;28;01mFalse\u001b[39;00m)\n",
      "File \u001b[1;32m~\\AppData\\Local\\Programs\\Python\\Python311\\Lib\\site-packages\\pandas\\core\\internals\\managers.py:1732\u001b[0m, in \u001b[0;36mBlockManager.as_array\u001b[1;34m(self, dtype, copy, na_value)\u001b[0m\n\u001b[0;32m   1730\u001b[0m         arr\u001b[38;5;241m.\u001b[39mflags\u001b[38;5;241m.\u001b[39mwriteable \u001b[38;5;241m=\u001b[39m \u001b[38;5;28;01mFalse\u001b[39;00m\n\u001b[0;32m   1731\u001b[0m \u001b[38;5;28;01melse\u001b[39;00m:\n\u001b[1;32m-> 1732\u001b[0m     arr \u001b[38;5;241m=\u001b[39m \u001b[38;5;28;43mself\u001b[39;49m\u001b[38;5;241;43m.\u001b[39;49m\u001b[43m_interleave\u001b[49m\u001b[43m(\u001b[49m\u001b[43mdtype\u001b[49m\u001b[38;5;241;43m=\u001b[39;49m\u001b[43mdtype\u001b[49m\u001b[43m,\u001b[49m\u001b[43m \u001b[49m\u001b[43mna_value\u001b[49m\u001b[38;5;241;43m=\u001b[39;49m\u001b[43mna_value\u001b[49m\u001b[43m)\u001b[49m\n\u001b[0;32m   1733\u001b[0m     \u001b[38;5;66;03m# The underlying data was copied within _interleave, so no need\u001b[39;00m\n\u001b[0;32m   1734\u001b[0m     \u001b[38;5;66;03m# to further copy if copy=True or setting na_value\u001b[39;00m\n\u001b[0;32m   1736\u001b[0m \u001b[38;5;28;01mif\u001b[39;00m na_value \u001b[38;5;129;01mis\u001b[39;00m \u001b[38;5;129;01mnot\u001b[39;00m lib\u001b[38;5;241m.\u001b[39mno_default:\n",
      "File \u001b[1;32m~\\AppData\\Local\\Programs\\Python\\Python311\\Lib\\site-packages\\pandas\\core\\internals\\managers.py:1794\u001b[0m, in \u001b[0;36mBlockManager._interleave\u001b[1;34m(self, dtype, na_value)\u001b[0m\n\u001b[0;32m   1792\u001b[0m     \u001b[38;5;28;01melse\u001b[39;00m:\n\u001b[0;32m   1793\u001b[0m         arr \u001b[38;5;241m=\u001b[39m blk\u001b[38;5;241m.\u001b[39mget_values(dtype)\n\u001b[1;32m-> 1794\u001b[0m     \u001b[43mresult\u001b[49m\u001b[43m[\u001b[49m\u001b[43mrl\u001b[49m\u001b[38;5;241;43m.\u001b[39;49m\u001b[43mindexer\u001b[49m\u001b[43m]\u001b[49m \u001b[38;5;241m=\u001b[39m arr\n\u001b[0;32m   1795\u001b[0m     itemmask[rl\u001b[38;5;241m.\u001b[39mindexer] \u001b[38;5;241m=\u001b[39m \u001b[38;5;241m1\u001b[39m\n\u001b[0;32m   1797\u001b[0m \u001b[38;5;28;01mif\u001b[39;00m \u001b[38;5;129;01mnot\u001b[39;00m itemmask\u001b[38;5;241m.\u001b[39mall():\n",
      "\u001b[1;31mValueError\u001b[0m: could not convert string to float: 'Outfield'"
     ]
    }
   ],
   "source": [
    "df.corr()"
   ]
  },
  {
   "cell_type": "code",
   "execution_count": null,
   "id": "2f9eb168",
   "metadata": {},
   "outputs": [],
   "source": []
  }
 ],
 "metadata": {
  "kernelspec": {
   "display_name": "Python 3 (ipykernel)",
   "language": "python",
   "name": "python3"
  },
  "language_info": {
   "codemirror_mode": {
    "name": "ipython",
    "version": 3
   },
   "file_extension": ".py",
   "mimetype": "text/x-python",
   "name": "python",
   "nbconvert_exporter": "python",
   "pygments_lexer": "ipython3",
   "version": "3.11.3"
  }
 },
 "nbformat": 4,
 "nbformat_minor": 5
}
